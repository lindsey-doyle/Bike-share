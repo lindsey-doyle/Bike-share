{
 "cells": [
  {
   "cell_type": "markdown",
   "metadata": {},
   "source": [
    "# Part 1: *EDA, Cleaning, and Hypothesis Test*\n",
    "---\n",
    "This project uses data from a Boston-based bike sharing program to gain insight on the riding habits of users in different age groups. \n",
    "\n",
    "The process of this project involves the following steps:\n",
    "\n",
    "- Data Collection\n",
    "- Exploratory Data Analysis (EDA)\n",
    "- Data Cleaning/Missingness Assessment \n",
    "- Forming and Testing Hyposthesis\n",
    "- Analysis of Results \n",
    "\n",
    "Read the summary sections and code in the notenook below to learn more!"
   ]
  },
  {
   "cell_type": "markdown",
   "metadata": {},
   "source": [
    "### Summary of Findings – \n",
    "\n",
    "## Cleaning and EDA:\n",
    "\n",
    "I began by reading these files into a dataframe, where each row represents a trip, and each column contains information about the trip such the birth year of the user, start and stop times, and more. I explored the data by adding new columns for readability, modifying datatypes, and assessing significance of each column. \n",
    "\n",
    "As part of my cleaning and EDA, I also engineered a few new features that I thought could be useful later on in my analysis. For example I created an 'age' column by subtracting the birth year from the current year. While this age column will not be perfectly accurate because I don't know to birth month of each user, it is accurate within one year of their true age which is accurate enough for the purpose of this investigation. \n",
    "\n",
    "Next, I created a 'start_stop_distance' column which represents the distance between where the trip started and where it ended. It should be noted that this is not equivalent to the total distance traveled during the trip, as it is highly unlikely that riders took perfectly linear path from where the got on to where they got off.\n",
    "\n",
    "I also added a 'day_of_week' column to contain the day of the week that each trip took place on. I used starttime as the say of week for each trip, so any trip that was started before midnight will be catagorized as a trip on that day of the week, even if it technically ended the next day. I although I didn't end up using this column, it helped me explore the data and got me thinking about possible lines of inquery.\n",
    "\n",
    "Important to my later work, I also added new column 'age_group' which groups each entry into categories two categories, either 'middle aged' or 'young adult' depending on whether the reported age of the user is greater than 35 or not. These two categories are the groups whose trip-duration averages I will compare in the hypothesis test section. \n",
    "\n",
    "Next, I needed to do some cleaning of the trip_minutes column. While there are no missing values in this column, I blanked out some values that I considered unreasonable and called them \"missing\". These unreasonable (aka \"missing\") values included any entries longer than 16 hours (960 minutes) or shorter than 1.25 minutes, because these are unreasonable ride durations on a bike-share bike and were likely a mistake from the user (for example they changed their mind and didn't actually riding the bike or they forgot to end their trip). Because this data is not NMAR, it is assumed to be MAR data. In this case, I will need to use the column in question ('trip_minutes') in testing my hypothesis, so dropping observations to remove the missing values is ok. \n",
    "\n",
    "Finally, I cleaned up the dataframe a bit by removing any columns that I won't need to reference in the next following sections.\n",
    "\n",
    "(See the \"Code\" section below in the notebook for more details.)\n",
    "\n",
    "---\n",
    "## Assessment of Missingness:\n",
    "\n",
    "After the initial exploratory analysis, I decided to investigate the missingness mechanism of the birth year column. \n",
    " \n",
    "While there were no 'blank' entries in the dataset, both the age and birth year columns most likely did contain missing data, as they are self-reported. To begin, I looked into whether it was possible that this data is NMAR. I decided that the missingness of the age column is not NMAR, because it would not make sense for the missing age values to depend on the value of the (actual, unreported) missing values, because the reason we blanked them out is that they were unreasonable values. There could be other reasons why some users incorrectly self-reported their age, for example they could have been rushing through the sign up process and not taken it seriously and just put in random values as their age, name, etc. After concluding that this column is not NMAR, the assumption is that the data is MAR. \n",
    "\n",
    "The next step in assessing the missingness of the age column is to perform permutation tests to analyze the dependency of this missingness on other columns. I found that the missingness of the age column was not dependent on the usertype column, but I found that the age data was dependent on the gender column. Because this second permutation test pointed towards different distributions of missing vs. non-missing data for one of the columns, the age data cannot be MCAR, and therefore is indeed MAR. \n",
    "\n",
    "---\n",
    "## Hypothesis Test and Results\n",
    "Now that the dataset is prepared, I can perform a hypothesis test to help answer a specific question – **do middle-aged users tend to take longer or shorter rides than young adults?**\n",
    "\n",
    "For the purpose of this project, I will define middle aged users as those aged 35+, and younger adult users are those whose age is less than 35. In my exploratory analysis, it seemed that the average trip duration could be longer for middle aged users, so I will keep this in mind when forming my alternative hypothesis. I decided to use a significance level of 0.05. \n",
    "\n",
    "\n",
    "- **Null hypothesis**: Of BlueBikes users, the average trip duration of middle aged users and young adult users are the same. (i.e. they come from the same distribution)\n",
    "   \n",
    "- **Alternative hypothesis**: Of BlueBikes users, trip duration of middle aged users is typically longer than that of younger users.\n",
    "\n",
    "I decided a reasonable statistic to compute in order to test the null hypothesis is difference in means.\n",
    "\n",
    "- **Test Statistic**: Difference between means.\n",
    "\n",
    "After simulating under the null hypothesis, I calculated the a p-value of 1.0 which is much higher than my predetermined significance level. It is rare to see differences as large as this under the null hypothesis, therefore, we reject the null hypothesis: the two groups do not come from the same distribution.\n",
    "\n",
    "---\n",
    "## Relevence/Example Application Cases:\n",
    "\n",
    "So why is gaining insight on users' riding habits useful? Well, example use case could be to help inform a company's marketing decisions, like whether or not a targeted marketing strategy towards a specific age group would be effective. Because if they know that different age groups tends to take longer or shorter rides, they can use that information to recruit more customers from the age group that will earn them more revenue per ride. \n"
   ]
  },
  {
   "cell_type": "markdown",
   "metadata": {},
   "source": [
    "## [Project Code]:"
   ]
  },
  {
   "cell_type": "code",
   "execution_count": 347,
   "metadata": {},
   "outputs": [],
   "source": [
    "%matplotlib inline\n",
    "import os\n",
    "\n",
    "import pandas as pd\n",
    "import numpy as np\n",
    "\n",
    "import matplotlib.pyplot as plt\n",
    "import seaborn as sns\n",
    "import glob\n",
    "import datetime\n",
    "\n",
    "# set defaults\n",
    "plt.style.use('seaborn-white')   # seaborn custom plot style\n",
    "plt.rc('figure', dpi=100, figsize=(7, 5))   # set default size/resolution\n",
    "plt.rc('font', size=12)   # font size"
   ]
  },
  {
   "cell_type": "markdown",
   "metadata": {},
   "source": [
    "In the below cells, I read in the data from csv files into a dataframe so that I could begin my analysis. "
   ]
  },
  {
   "cell_type": "code",
   "execution_count": 348,
   "metadata": {},
   "outputs": [
    {
     "data": {
      "text/plain": [
       "['data/201810-bluebikes-tripdata.csv',\n",
       " 'data/201812-bluebikes-tripdata.csv',\n",
       " 'data/201811-bluebikes-tripdata.csv',\n",
       " 'data/201809-bluebikes-tripdata.csv',\n",
       " 'data/201902-bluebikes-tripdata.csv',\n",
       " 'data/201901-bluebikes-tripdata.csv',\n",
       " 'data/201806-bluebikes-tripdata.csv',\n",
       " 'data/201903-bluebikes-tripdata.csv',\n",
       " 'data/201805-bluebikes-tripdata.csv',\n",
       " 'data/201808-bluebikes-tripdata.csv']"
      ]
     },
     "execution_count": 348,
     "metadata": {},
     "output_type": "execute_result"
    }
   ],
   "source": [
    "path = 'data'\n",
    "all_files = glob.glob(path + \"/*.csv\")\n",
    "all_files"
   ]
  },
  {
   "cell_type": "code",
   "execution_count": 349,
   "metadata": {},
   "outputs": [],
   "source": [
    "lst = []\n",
    "\n",
    "for filename in all_files:\n",
    "    df = pd.read_csv(filename, index_col=None, header=0)\n",
    "    lst.append(df)\n",
    "\n",
    "frame = pd.concat(lst, axis=0, ignore_index=True)\n",
    "df = frame"
   ]
  },
  {
   "cell_type": "markdown",
   "metadata": {},
   "source": [
    "### Cleaning and EDA:\n",
    "---\n",
    "Now that the data is in a table, we can begin some exploratory analysis and data cleaning. "
   ]
  },
  {
   "cell_type": "markdown",
   "metadata": {},
   "source": [
    "The first thing I did was convert the 'birth year' column into a new feature containing the approximate age (in years) of each user. This will just help with readability in case we want to look at users in different age groups because we tend to think of people in groups by age, not by birth year. "
   ]
  },
  {
   "cell_type": "code",
   "execution_count": 350,
   "metadata": {},
   "outputs": [
    {
     "data": {
      "text/html": [
       "<div>\n",
       "<style scoped>\n",
       "    .dataframe tbody tr th:only-of-type {\n",
       "        vertical-align: middle;\n",
       "    }\n",
       "\n",
       "    .dataframe tbody tr th {\n",
       "        vertical-align: top;\n",
       "    }\n",
       "\n",
       "    .dataframe thead th {\n",
       "        text-align: right;\n",
       "    }\n",
       "</style>\n",
       "<table border=\"1\" class=\"dataframe\">\n",
       "  <thead>\n",
       "    <tr style=\"text-align: right;\">\n",
       "      <th></th>\n",
       "      <th>tripduration</th>\n",
       "      <th>starttime</th>\n",
       "      <th>stoptime</th>\n",
       "      <th>start station id</th>\n",
       "      <th>start station name</th>\n",
       "      <th>start station latitude</th>\n",
       "      <th>start station longitude</th>\n",
       "      <th>end station id</th>\n",
       "      <th>end station name</th>\n",
       "      <th>end station latitude</th>\n",
       "      <th>end station longitude</th>\n",
       "      <th>bikeid</th>\n",
       "      <th>usertype</th>\n",
       "      <th>birth year</th>\n",
       "      <th>gender</th>\n",
       "      <th>age</th>\n",
       "    </tr>\n",
       "  </thead>\n",
       "  <tbody>\n",
       "    <tr>\n",
       "      <th>0</th>\n",
       "      <td>277</td>\n",
       "      <td>2018-10-01 00:01:57.1860</td>\n",
       "      <td>2018-10-01 00:06:34.2320</td>\n",
       "      <td>67</td>\n",
       "      <td>MIT at Mass Ave / Amherst St</td>\n",
       "      <td>42.358100</td>\n",
       "      <td>-71.093198</td>\n",
       "      <td>189</td>\n",
       "      <td>Kendall T</td>\n",
       "      <td>42.362428</td>\n",
       "      <td>-71.084955</td>\n",
       "      <td>2749</td>\n",
       "      <td>Subscriber</td>\n",
       "      <td>1996</td>\n",
       "      <td>1</td>\n",
       "      <td>22</td>\n",
       "    </tr>\n",
       "    <tr>\n",
       "      <th>1</th>\n",
       "      <td>949</td>\n",
       "      <td>2018-10-01 00:03:22.3100</td>\n",
       "      <td>2018-10-01 00:19:11.5050</td>\n",
       "      <td>45</td>\n",
       "      <td>Jersey St. at Boylston St.</td>\n",
       "      <td>42.344681</td>\n",
       "      <td>-71.097853</td>\n",
       "      <td>103</td>\n",
       "      <td>JFK Crossing at Harvard St. / Thorndike St.</td>\n",
       "      <td>42.346563</td>\n",
       "      <td>-71.128374</td>\n",
       "      <td>3416</td>\n",
       "      <td>Subscriber</td>\n",
       "      <td>1992</td>\n",
       "      <td>1</td>\n",
       "      <td>26</td>\n",
       "    </tr>\n",
       "    <tr>\n",
       "      <th>2</th>\n",
       "      <td>2729</td>\n",
       "      <td>2018-10-01 00:05:49.2200</td>\n",
       "      <td>2018-10-01 00:51:18.5400</td>\n",
       "      <td>160</td>\n",
       "      <td>Wentworth Institute of Technology - Huntington...</td>\n",
       "      <td>42.337586</td>\n",
       "      <td>-71.096271</td>\n",
       "      <td>160</td>\n",
       "      <td>Wentworth Institute of Technology - Huntington...</td>\n",
       "      <td>42.337586</td>\n",
       "      <td>-71.096271</td>\n",
       "      <td>3647</td>\n",
       "      <td>Customer</td>\n",
       "      <td>1969</td>\n",
       "      <td>0</td>\n",
       "      <td>49</td>\n",
       "    </tr>\n",
       "  </tbody>\n",
       "</table>\n",
       "</div>"
      ],
      "text/plain": [
       "   tripduration                 starttime                  stoptime  \\\n",
       "0           277  2018-10-01 00:01:57.1860  2018-10-01 00:06:34.2320   \n",
       "1           949  2018-10-01 00:03:22.3100  2018-10-01 00:19:11.5050   \n",
       "2          2729  2018-10-01 00:05:49.2200  2018-10-01 00:51:18.5400   \n",
       "\n",
       "   start station id                                 start station name  \\\n",
       "0                67                       MIT at Mass Ave / Amherst St   \n",
       "1                45                         Jersey St. at Boylston St.   \n",
       "2               160  Wentworth Institute of Technology - Huntington...   \n",
       "\n",
       "   start station latitude  start station longitude  end station id  \\\n",
       "0               42.358100               -71.093198             189   \n",
       "1               42.344681               -71.097853             103   \n",
       "2               42.337586               -71.096271             160   \n",
       "\n",
       "                                    end station name  end station latitude  \\\n",
       "0                                          Kendall T             42.362428   \n",
       "1        JFK Crossing at Harvard St. / Thorndike St.             42.346563   \n",
       "2  Wentworth Institute of Technology - Huntington...             42.337586   \n",
       "\n",
       "   end station longitude  bikeid    usertype  birth year  gender  age  \n",
       "0             -71.084955    2749  Subscriber        1996       1   22  \n",
       "1             -71.128374    3416  Subscriber        1992       1   26  \n",
       "2             -71.096271    3647    Customer        1969       0   49  "
      ]
     },
     "execution_count": 350,
     "metadata": {},
     "output_type": "execute_result"
    }
   ],
   "source": [
    "df['age'] = 2018 - df['birth year']\n",
    "df.head(3)"
   ]
  },
  {
   "cell_type": "markdown",
   "metadata": {},
   "source": [
    "Next, I wanted to get a feel for how long each trip was, so I added a column 'start_end_distance' which contained the distance (in kilometers) between the start station and the end station for each trip. "
   ]
  },
  {
   "cell_type": "code",
   "execution_count": 351,
   "metadata": {},
   "outputs": [],
   "source": [
    "# helper method to find distance between coordinates\n",
    "# taken from comments of https://gist.github.com/rochacbruno/2883505 \n",
    "\n",
    "def distance(s_lat, s_lng, e_lat, e_lng):\n",
    "    \n",
    "    # approximate radius of earth in km\n",
    "    R = 6373.0\n",
    "    \n",
    "    s_lat = s_lat*np.pi/180.0                      \n",
    "    s_lng = np.deg2rad(s_lng)     \n",
    "    e_lat = np.deg2rad(e_lat)                       \n",
    "    e_lng = np.deg2rad(e_lng)  \n",
    "    \n",
    "    d = np.sin((e_lat - s_lat)/2)**2 + np.cos(s_lat)*np.cos(e_lat) * np.sin((e_lng - s_lng)/2)**2\n",
    "    \n",
    "    return 2 * R * np.arcsin(np.sqrt(d)) \n",
    "\n",
    "df['start_end_distance'] = distance(df['start station latitude'], \n",
    "                                     df['start station longitude'], \n",
    "                                     df['end station latitude'],\n",
    "                                     df['start station longitude']\n",
    "                                   )"
   ]
  },
  {
   "cell_type": "code",
   "execution_count": 293,
   "metadata": {
    "scrolled": true
   },
   "outputs": [],
   "source": [
    "# make a day of week column:\n",
    "df['start_day'] = df['starttime'].apply(lambda string: datetime.datetime.strptime(string.split('.')[0], '%Y-%m-%d %H:%M:%S').strftime('%A'))\n"
   ]
  },
  {
   "cell_type": "code",
   "execution_count": 294,
   "metadata": {},
   "outputs": [
    {
     "data": {
      "text/html": [
       "<div>\n",
       "<style scoped>\n",
       "    .dataframe tbody tr th:only-of-type {\n",
       "        vertical-align: middle;\n",
       "    }\n",
       "\n",
       "    .dataframe tbody tr th {\n",
       "        vertical-align: top;\n",
       "    }\n",
       "\n",
       "    .dataframe thead th {\n",
       "        text-align: right;\n",
       "    }\n",
       "</style>\n",
       "<table border=\"1\" class=\"dataframe\">\n",
       "  <thead>\n",
       "    <tr style=\"text-align: right;\">\n",
       "      <th></th>\n",
       "      <th>tripduration</th>\n",
       "      <th>starttime</th>\n",
       "      <th>stoptime</th>\n",
       "      <th>start station id</th>\n",
       "      <th>start station name</th>\n",
       "      <th>start station latitude</th>\n",
       "      <th>start station longitude</th>\n",
       "      <th>end station id</th>\n",
       "      <th>end station name</th>\n",
       "      <th>end station latitude</th>\n",
       "      <th>end station longitude</th>\n",
       "      <th>bikeid</th>\n",
       "      <th>usertype</th>\n",
       "      <th>birth year</th>\n",
       "      <th>gender</th>\n",
       "      <th>age</th>\n",
       "      <th>start_end_distance</th>\n",
       "      <th>start_day</th>\n",
       "      <th>trip_minutes</th>\n",
       "    </tr>\n",
       "  </thead>\n",
       "  <tbody>\n",
       "    <tr>\n",
       "      <th>0</th>\n",
       "      <td>277</td>\n",
       "      <td>2018-10-01 00:01:57.1860</td>\n",
       "      <td>2018-10-01 00:06:34.2320</td>\n",
       "      <td>67</td>\n",
       "      <td>MIT at Mass Ave / Amherst St</td>\n",
       "      <td>42.358100</td>\n",
       "      <td>-71.093198</td>\n",
       "      <td>189</td>\n",
       "      <td>Kendall T</td>\n",
       "      <td>42.362428</td>\n",
       "      <td>-71.084955</td>\n",
       "      <td>2749</td>\n",
       "      <td>Subscriber</td>\n",
       "      <td>1996</td>\n",
       "      <td>1</td>\n",
       "      <td>22</td>\n",
       "      <td>0.481385</td>\n",
       "      <td>Monday</td>\n",
       "      <td>4.616667</td>\n",
       "    </tr>\n",
       "    <tr>\n",
       "      <th>1</th>\n",
       "      <td>949</td>\n",
       "      <td>2018-10-01 00:03:22.3100</td>\n",
       "      <td>2018-10-01 00:19:11.5050</td>\n",
       "      <td>45</td>\n",
       "      <td>Jersey St. at Boylston St.</td>\n",
       "      <td>42.344681</td>\n",
       "      <td>-71.097853</td>\n",
       "      <td>103</td>\n",
       "      <td>JFK Crossing at Harvard St. / Thorndike St.</td>\n",
       "      <td>42.346563</td>\n",
       "      <td>-71.128374</td>\n",
       "      <td>3416</td>\n",
       "      <td>Subscriber</td>\n",
       "      <td>1992</td>\n",
       "      <td>1</td>\n",
       "      <td>26</td>\n",
       "      <td>0.209352</td>\n",
       "      <td>Monday</td>\n",
       "      <td>15.816667</td>\n",
       "    </tr>\n",
       "    <tr>\n",
       "      <th>2</th>\n",
       "      <td>2729</td>\n",
       "      <td>2018-10-01 00:05:49.2200</td>\n",
       "      <td>2018-10-01 00:51:18.5400</td>\n",
       "      <td>160</td>\n",
       "      <td>Wentworth Institute of Technology - Huntington...</td>\n",
       "      <td>42.337586</td>\n",
       "      <td>-71.096271</td>\n",
       "      <td>160</td>\n",
       "      <td>Wentworth Institute of Technology - Huntington...</td>\n",
       "      <td>42.337586</td>\n",
       "      <td>-71.096271</td>\n",
       "      <td>3647</td>\n",
       "      <td>Customer</td>\n",
       "      <td>1969</td>\n",
       "      <td>0</td>\n",
       "      <td>49</td>\n",
       "      <td>0.000000</td>\n",
       "      <td>Monday</td>\n",
       "      <td>45.483333</td>\n",
       "    </tr>\n",
       "  </tbody>\n",
       "</table>\n",
       "</div>"
      ],
      "text/plain": [
       "   tripduration                 starttime                  stoptime  \\\n",
       "0           277  2018-10-01 00:01:57.1860  2018-10-01 00:06:34.2320   \n",
       "1           949  2018-10-01 00:03:22.3100  2018-10-01 00:19:11.5050   \n",
       "2          2729  2018-10-01 00:05:49.2200  2018-10-01 00:51:18.5400   \n",
       "\n",
       "   start station id                                 start station name  \\\n",
       "0                67                       MIT at Mass Ave / Amherst St   \n",
       "1                45                         Jersey St. at Boylston St.   \n",
       "2               160  Wentworth Institute of Technology - Huntington...   \n",
       "\n",
       "   start station latitude  start station longitude  end station id  \\\n",
       "0               42.358100               -71.093198             189   \n",
       "1               42.344681               -71.097853             103   \n",
       "2               42.337586               -71.096271             160   \n",
       "\n",
       "                                    end station name  end station latitude  \\\n",
       "0                                          Kendall T             42.362428   \n",
       "1        JFK Crossing at Harvard St. / Thorndike St.             42.346563   \n",
       "2  Wentworth Institute of Technology - Huntington...             42.337586   \n",
       "\n",
       "   end station longitude  bikeid    usertype  birth year  gender  age  \\\n",
       "0             -71.084955    2749  Subscriber        1996       1   22   \n",
       "1             -71.128374    3416  Subscriber        1992       1   26   \n",
       "2             -71.096271    3647    Customer        1969       0   49   \n",
       "\n",
       "   start_end_distance start_day  trip_minutes  \n",
       "0            0.481385    Monday      4.616667  \n",
       "1            0.209352    Monday     15.816667  \n",
       "2            0.000000    Monday     45.483333  "
      ]
     },
     "execution_count": 294,
     "metadata": {},
     "output_type": "execute_result"
    }
   ],
   "source": [
    "# converting 'tripduration' column from seconds to minutes for readability\n",
    "df['trip_minutes'] = df['tripduration'] / 60\n",
    "df.head(3)"
   ]
  },
  {
   "cell_type": "markdown",
   "metadata": {},
   "source": [
    "Here, I added new column 'age_group' which labels each trip either 'middle aged' 'young adult' depending on whether the reported age of the user is greater than 35 or not. These two categories will be the groups which I will compare in the hypothesis test section. "
   ]
  },
  {
   "cell_type": "code",
   "execution_count": 295,
   "metadata": {},
   "outputs": [
    {
     "data": {
      "text/html": [
       "<div>\n",
       "<style scoped>\n",
       "    .dataframe tbody tr th:only-of-type {\n",
       "        vertical-align: middle;\n",
       "    }\n",
       "\n",
       "    .dataframe tbody tr th {\n",
       "        vertical-align: top;\n",
       "    }\n",
       "\n",
       "    .dataframe thead th {\n",
       "        text-align: right;\n",
       "    }\n",
       "</style>\n",
       "<table border=\"1\" class=\"dataframe\">\n",
       "  <thead>\n",
       "    <tr style=\"text-align: right;\">\n",
       "      <th></th>\n",
       "      <th>tripduration</th>\n",
       "      <th>starttime</th>\n",
       "      <th>stoptime</th>\n",
       "      <th>start station id</th>\n",
       "      <th>start station name</th>\n",
       "      <th>start station latitude</th>\n",
       "      <th>start station longitude</th>\n",
       "      <th>end station id</th>\n",
       "      <th>end station name</th>\n",
       "      <th>end station latitude</th>\n",
       "      <th>end station longitude</th>\n",
       "      <th>bikeid</th>\n",
       "      <th>usertype</th>\n",
       "      <th>birth year</th>\n",
       "      <th>gender</th>\n",
       "      <th>age</th>\n",
       "      <th>start_end_distance</th>\n",
       "      <th>start_day</th>\n",
       "      <th>trip_minutes</th>\n",
       "      <th>age_group</th>\n",
       "    </tr>\n",
       "  </thead>\n",
       "  <tbody>\n",
       "    <tr>\n",
       "      <th>0</th>\n",
       "      <td>277</td>\n",
       "      <td>2018-10-01 00:01:57.1860</td>\n",
       "      <td>2018-10-01 00:06:34.2320</td>\n",
       "      <td>67</td>\n",
       "      <td>MIT at Mass Ave / Amherst St</td>\n",
       "      <td>42.358100</td>\n",
       "      <td>-71.093198</td>\n",
       "      <td>189</td>\n",
       "      <td>Kendall T</td>\n",
       "      <td>42.362428</td>\n",
       "      <td>-71.084955</td>\n",
       "      <td>2749</td>\n",
       "      <td>Subscriber</td>\n",
       "      <td>1996</td>\n",
       "      <td>1</td>\n",
       "      <td>22</td>\n",
       "      <td>0.481385</td>\n",
       "      <td>Monday</td>\n",
       "      <td>4.616667</td>\n",
       "      <td>young adult</td>\n",
       "    </tr>\n",
       "    <tr>\n",
       "      <th>1</th>\n",
       "      <td>949</td>\n",
       "      <td>2018-10-01 00:03:22.3100</td>\n",
       "      <td>2018-10-01 00:19:11.5050</td>\n",
       "      <td>45</td>\n",
       "      <td>Jersey St. at Boylston St.</td>\n",
       "      <td>42.344681</td>\n",
       "      <td>-71.097853</td>\n",
       "      <td>103</td>\n",
       "      <td>JFK Crossing at Harvard St. / Thorndike St.</td>\n",
       "      <td>42.346563</td>\n",
       "      <td>-71.128374</td>\n",
       "      <td>3416</td>\n",
       "      <td>Subscriber</td>\n",
       "      <td>1992</td>\n",
       "      <td>1</td>\n",
       "      <td>26</td>\n",
       "      <td>0.209352</td>\n",
       "      <td>Monday</td>\n",
       "      <td>15.816667</td>\n",
       "      <td>young adult</td>\n",
       "    </tr>\n",
       "    <tr>\n",
       "      <th>2</th>\n",
       "      <td>2729</td>\n",
       "      <td>2018-10-01 00:05:49.2200</td>\n",
       "      <td>2018-10-01 00:51:18.5400</td>\n",
       "      <td>160</td>\n",
       "      <td>Wentworth Institute of Technology - Huntington...</td>\n",
       "      <td>42.337586</td>\n",
       "      <td>-71.096271</td>\n",
       "      <td>160</td>\n",
       "      <td>Wentworth Institute of Technology - Huntington...</td>\n",
       "      <td>42.337586</td>\n",
       "      <td>-71.096271</td>\n",
       "      <td>3647</td>\n",
       "      <td>Customer</td>\n",
       "      <td>1969</td>\n",
       "      <td>0</td>\n",
       "      <td>49</td>\n",
       "      <td>0.000000</td>\n",
       "      <td>Monday</td>\n",
       "      <td>45.483333</td>\n",
       "      <td>middle aged</td>\n",
       "    </tr>\n",
       "    <tr>\n",
       "      <th>3</th>\n",
       "      <td>2604</td>\n",
       "      <td>2018-10-01 00:06:21.2920</td>\n",
       "      <td>2018-10-01 00:49:45.8760</td>\n",
       "      <td>160</td>\n",
       "      <td>Wentworth Institute of Technology - Huntington...</td>\n",
       "      <td>42.337586</td>\n",
       "      <td>-71.096271</td>\n",
       "      <td>160</td>\n",
       "      <td>Wentworth Institute of Technology - Huntington...</td>\n",
       "      <td>42.337586</td>\n",
       "      <td>-71.096271</td>\n",
       "      <td>3673</td>\n",
       "      <td>Customer</td>\n",
       "      <td>1969</td>\n",
       "      <td>0</td>\n",
       "      <td>49</td>\n",
       "      <td>0.000000</td>\n",
       "      <td>Monday</td>\n",
       "      <td>43.400000</td>\n",
       "      <td>middle aged</td>\n",
       "    </tr>\n",
       "    <tr>\n",
       "      <th>4</th>\n",
       "      <td>816</td>\n",
       "      <td>2018-10-01 00:06:46.6530</td>\n",
       "      <td>2018-10-01 00:20:22.7140</td>\n",
       "      <td>4</td>\n",
       "      <td>Tremont St at E Berkeley St</td>\n",
       "      <td>42.345392</td>\n",
       "      <td>-71.069616</td>\n",
       "      <td>190</td>\n",
       "      <td>Nashua Street at Red Auerbach Way</td>\n",
       "      <td>42.365673</td>\n",
       "      <td>-71.064263</td>\n",
       "      <td>3065</td>\n",
       "      <td>Subscriber</td>\n",
       "      <td>1998</td>\n",
       "      <td>2</td>\n",
       "      <td>20</td>\n",
       "      <td>2.255852</td>\n",
       "      <td>Monday</td>\n",
       "      <td>13.600000</td>\n",
       "      <td>young adult</td>\n",
       "    </tr>\n",
       "  </tbody>\n",
       "</table>\n",
       "</div>"
      ],
      "text/plain": [
       "   tripduration                 starttime                  stoptime  \\\n",
       "0           277  2018-10-01 00:01:57.1860  2018-10-01 00:06:34.2320   \n",
       "1           949  2018-10-01 00:03:22.3100  2018-10-01 00:19:11.5050   \n",
       "2          2729  2018-10-01 00:05:49.2200  2018-10-01 00:51:18.5400   \n",
       "3          2604  2018-10-01 00:06:21.2920  2018-10-01 00:49:45.8760   \n",
       "4           816  2018-10-01 00:06:46.6530  2018-10-01 00:20:22.7140   \n",
       "\n",
       "   start station id                                 start station name  \\\n",
       "0                67                       MIT at Mass Ave / Amherst St   \n",
       "1                45                         Jersey St. at Boylston St.   \n",
       "2               160  Wentworth Institute of Technology - Huntington...   \n",
       "3               160  Wentworth Institute of Technology - Huntington...   \n",
       "4                 4                        Tremont St at E Berkeley St   \n",
       "\n",
       "   start station latitude  start station longitude  end station id  \\\n",
       "0               42.358100               -71.093198             189   \n",
       "1               42.344681               -71.097853             103   \n",
       "2               42.337586               -71.096271             160   \n",
       "3               42.337586               -71.096271             160   \n",
       "4               42.345392               -71.069616             190   \n",
       "\n",
       "                                    end station name  end station latitude  \\\n",
       "0                                          Kendall T             42.362428   \n",
       "1        JFK Crossing at Harvard St. / Thorndike St.             42.346563   \n",
       "2  Wentworth Institute of Technology - Huntington...             42.337586   \n",
       "3  Wentworth Institute of Technology - Huntington...             42.337586   \n",
       "4                  Nashua Street at Red Auerbach Way             42.365673   \n",
       "\n",
       "   end station longitude  bikeid    usertype  birth year  gender  age  \\\n",
       "0             -71.084955    2749  Subscriber        1996       1   22   \n",
       "1             -71.128374    3416  Subscriber        1992       1   26   \n",
       "2             -71.096271    3647    Customer        1969       0   49   \n",
       "3             -71.096271    3673    Customer        1969       0   49   \n",
       "4             -71.064263    3065  Subscriber        1998       2   20   \n",
       "\n",
       "   start_end_distance start_day  trip_minutes    age_group  \n",
       "0            0.481385    Monday      4.616667  young adult  \n",
       "1            0.209352    Monday     15.816667  young adult  \n",
       "2            0.000000    Monday     45.483333  middle aged  \n",
       "3            0.000000    Monday     43.400000  middle aged  \n",
       "4            2.255852    Monday     13.600000  young adult  "
      ]
     },
     "execution_count": 295,
     "metadata": {},
     "output_type": "execute_result"
    }
   ],
   "source": [
    "# create new column\n",
    "df['age_group'] = np.where(df['age'] >= 35, 'middle aged', 'young adult')\n",
    "df.head()"
   ]
  },
  {
   "cell_type": "markdown",
   "metadata": {},
   "source": [
    "Next, I will clean the trip_minutes column. \n",
    "\n",
    "While there are no missing values in this column, I blanked out some of the unreasonable values because they are clearly \"missing.\" I blanked out all entries with 'duration_minutes' values longer than 16 hours (960 minutes) or shorter than 1.25 minutes because these values must have been a mistake from the user (for example they changed their mind and didn't actually riding the bike or they forgot to end their trip)."
   ]
  },
  {
   "cell_type": "code",
   "execution_count": 296,
   "metadata": {},
   "outputs": [
    {
     "data": {
      "text/html": [
       "<div>\n",
       "<style scoped>\n",
       "    .dataframe tbody tr th:only-of-type {\n",
       "        vertical-align: middle;\n",
       "    }\n",
       "\n",
       "    .dataframe tbody tr th {\n",
       "        vertical-align: top;\n",
       "    }\n",
       "\n",
       "    .dataframe thead th {\n",
       "        text-align: right;\n",
       "    }\n",
       "</style>\n",
       "<table border=\"1\" class=\"dataframe\">\n",
       "  <thead>\n",
       "    <tr style=\"text-align: right;\">\n",
       "      <th></th>\n",
       "      <th>tripduration</th>\n",
       "      <th>starttime</th>\n",
       "      <th>stoptime</th>\n",
       "      <th>start station id</th>\n",
       "      <th>start station name</th>\n",
       "      <th>start station latitude</th>\n",
       "      <th>start station longitude</th>\n",
       "      <th>end station id</th>\n",
       "      <th>end station name</th>\n",
       "      <th>end station latitude</th>\n",
       "      <th>end station longitude</th>\n",
       "      <th>bikeid</th>\n",
       "      <th>usertype</th>\n",
       "      <th>birth year</th>\n",
       "      <th>gender</th>\n",
       "      <th>age</th>\n",
       "      <th>start_end_distance</th>\n",
       "      <th>start_day</th>\n",
       "      <th>trip_minutes</th>\n",
       "      <th>age_group</th>\n",
       "    </tr>\n",
       "  </thead>\n",
       "  <tbody>\n",
       "    <tr>\n",
       "      <th>0</th>\n",
       "      <td>277</td>\n",
       "      <td>2018-10-01 00:01:57.1860</td>\n",
       "      <td>2018-10-01 00:06:34.2320</td>\n",
       "      <td>67</td>\n",
       "      <td>MIT at Mass Ave / Amherst St</td>\n",
       "      <td>42.358100</td>\n",
       "      <td>-71.093198</td>\n",
       "      <td>189</td>\n",
       "      <td>Kendall T</td>\n",
       "      <td>42.362428</td>\n",
       "      <td>-71.084955</td>\n",
       "      <td>2749</td>\n",
       "      <td>Subscriber</td>\n",
       "      <td>1996</td>\n",
       "      <td>1</td>\n",
       "      <td>22</td>\n",
       "      <td>0.481385</td>\n",
       "      <td>Monday</td>\n",
       "      <td>4.616667</td>\n",
       "      <td>young adult</td>\n",
       "    </tr>\n",
       "    <tr>\n",
       "      <th>1</th>\n",
       "      <td>949</td>\n",
       "      <td>2018-10-01 00:03:22.3100</td>\n",
       "      <td>2018-10-01 00:19:11.5050</td>\n",
       "      <td>45</td>\n",
       "      <td>Jersey St. at Boylston St.</td>\n",
       "      <td>42.344681</td>\n",
       "      <td>-71.097853</td>\n",
       "      <td>103</td>\n",
       "      <td>JFK Crossing at Harvard St. / Thorndike St.</td>\n",
       "      <td>42.346563</td>\n",
       "      <td>-71.128374</td>\n",
       "      <td>3416</td>\n",
       "      <td>Subscriber</td>\n",
       "      <td>1992</td>\n",
       "      <td>1</td>\n",
       "      <td>26</td>\n",
       "      <td>0.209352</td>\n",
       "      <td>Monday</td>\n",
       "      <td>15.816667</td>\n",
       "      <td>young adult</td>\n",
       "    </tr>\n",
       "    <tr>\n",
       "      <th>2</th>\n",
       "      <td>2729</td>\n",
       "      <td>2018-10-01 00:05:49.2200</td>\n",
       "      <td>2018-10-01 00:51:18.5400</td>\n",
       "      <td>160</td>\n",
       "      <td>Wentworth Institute of Technology - Huntington...</td>\n",
       "      <td>42.337586</td>\n",
       "      <td>-71.096271</td>\n",
       "      <td>160</td>\n",
       "      <td>Wentworth Institute of Technology - Huntington...</td>\n",
       "      <td>42.337586</td>\n",
       "      <td>-71.096271</td>\n",
       "      <td>3647</td>\n",
       "      <td>Customer</td>\n",
       "      <td>1969</td>\n",
       "      <td>0</td>\n",
       "      <td>49</td>\n",
       "      <td>0.000000</td>\n",
       "      <td>Monday</td>\n",
       "      <td>45.483333</td>\n",
       "      <td>middle aged</td>\n",
       "    </tr>\n",
       "  </tbody>\n",
       "</table>\n",
       "</div>"
      ],
      "text/plain": [
       "   tripduration                 starttime                  stoptime  \\\n",
       "0           277  2018-10-01 00:01:57.1860  2018-10-01 00:06:34.2320   \n",
       "1           949  2018-10-01 00:03:22.3100  2018-10-01 00:19:11.5050   \n",
       "2          2729  2018-10-01 00:05:49.2200  2018-10-01 00:51:18.5400   \n",
       "\n",
       "   start station id                                 start station name  \\\n",
       "0                67                       MIT at Mass Ave / Amherst St   \n",
       "1                45                         Jersey St. at Boylston St.   \n",
       "2               160  Wentworth Institute of Technology - Huntington...   \n",
       "\n",
       "   start station latitude  start station longitude  end station id  \\\n",
       "0               42.358100               -71.093198             189   \n",
       "1               42.344681               -71.097853             103   \n",
       "2               42.337586               -71.096271             160   \n",
       "\n",
       "                                    end station name  end station latitude  \\\n",
       "0                                          Kendall T             42.362428   \n",
       "1        JFK Crossing at Harvard St. / Thorndike St.             42.346563   \n",
       "2  Wentworth Institute of Technology - Huntington...             42.337586   \n",
       "\n",
       "   end station longitude  bikeid    usertype  birth year  gender  age  \\\n",
       "0             -71.084955    2749  Subscriber        1996       1   22   \n",
       "1             -71.128374    3416  Subscriber        1992       1   26   \n",
       "2             -71.096271    3647    Customer        1969       0   49   \n",
       "\n",
       "   start_end_distance start_day  trip_minutes    age_group  \n",
       "0            0.481385    Monday      4.616667  young adult  \n",
       "1            0.209352    Monday     15.816667  young adult  \n",
       "2            0.000000    Monday     45.483333  middle aged  "
      ]
     },
     "execution_count": 296,
     "metadata": {},
     "output_type": "execute_result"
    }
   ],
   "source": [
    "# just looking at how many such values there are \n",
    "\n",
    "len(df.loc[df['trip_minutes'] > 960])\n",
    "len(df.loc[df['trip_minutes'] < 1.25])\n",
    "\n",
    "# now blanking out data because these values are \"missing\"\n",
    "\n",
    "df.loc[df['trip_minutes'] > 960, 'trip_minutes'] = np.nan\n",
    "df.loc[df['trip_minutes'] < 1.25, 'trip_minutes'] = np.nan\n",
    "df.head(3)"
   ]
  },
  {
   "cell_type": "markdown",
   "metadata": {},
   "source": [
    "Before we get into assessing the missingness, the last thing I want to do is clean up table by dropping unnecessary rows. Station id and latitude/longitude of each station are redundant because each station's name is unique, birthyear is redundant because we will be using age column instead, and tripduration is redundant because we have trip_minutes."
   ]
  },
  {
   "cell_type": "code",
   "execution_count": 298,
   "metadata": {},
   "outputs": [],
   "source": [
    "df = df.drop(['birth year',\n",
    "              'tripduration',\n",
    "              'start_day',\n",
    "              'start_end_distance',\n",
    "              'start station id', \n",
    "              'end station id', \n",
    "              'start station latitude', \n",
    "              'end station latitude', \n",
    "              'start station longitude',\n",
    "              'end station longitude'], axis=1)"
   ]
  },
  {
   "cell_type": "code",
   "execution_count": 301,
   "metadata": {},
   "outputs": [
    {
     "data": {
      "text/plain": [
       "age_group\n",
       "middle aged    609423\n",
       "young adult    899117\n",
       "Name: trip_minutes, dtype: int64"
      ]
     },
     "execution_count": 301,
     "metadata": {},
     "output_type": "execute_result"
    }
   ],
   "source": [
    "# Before diciding on my hypothesis, some exploratory analysis\n",
    "\n",
    "# how many are in each group?\n",
    "df.groupby('age_group')['trip_minutes'].count()"
   ]
  },
  {
   "cell_type": "code",
   "execution_count": 305,
   "metadata": {},
   "outputs": [
    {
     "data": {
      "text/plain": [
       "age_group\n",
       "middle aged    21.362146\n",
       "young adult    14.365049\n",
       "Name: trip_minutes, dtype: float64"
      ]
     },
     "execution_count": 305,
     "metadata": {},
     "output_type": "execute_result"
    }
   ],
   "source": [
    "# what is the average druation within each group?\n",
    "df.groupby('age_group')['trip_minutes'].mean()"
   ]
  },
  {
   "cell_type": "markdown",
   "metadata": {},
   "source": [
    "\n",
    "Does the difference we see reflect a real difference in the population?\n",
    "Or is it just due to random chance?\n"
   ]
  },
  {
   "cell_type": "code",
   "execution_count": 313,
   "metadata": {},
   "outputs": [
    {
     "data": {
      "image/png": "[encoded data removed]",
      "text/plain": [
       "<Figure size 700x500 with 1 Axes>"
      ]
     },
     "metadata": {},
     "output_type": "display_data"
    }
   ],
   "source": [
    "title='Trip duration by age group'\n",
    "\n",
    "(\n",
    "    df\n",
    "    .groupby('age_group')['trip_minutes']\n",
    "    .plot(kind='kde', legend=True, subplots=False, title=title)\n",
    ");   "
   ]
  },
  {
   "cell_type": "code",
   "execution_count": 318,
   "metadata": {},
   "outputs": [
    {
     "data": {
      "text/plain": [
       "-6.997096347411054"
      ]
     },
     "execution_count": 318,
     "metadata": {},
     "output_type": "execute_result"
    }
   ],
   "source": [
    "observed_difference = df.groupby('age_group').mean().diff().iloc[-1,-1]\n",
    "observed_difference"
   ]
  },
  {
   "cell_type": "markdown",
   "metadata": {},
   "source": [
    "### Missingness\n",
    "---"
   ]
  },
  {
   "cell_type": "markdown",
   "metadata": {},
   "source": [
    "Assessing the mechanism of missingness: \n",
    "Given the assumption of MAR, I will test if a data are MCAR.\n",
    "\n",
    "A column c_test is MCAR if its missingness  𝑅  is independent of the data.\n",
    "\n",
    "For each column c, I will check that the missingness rates of c_test are the same across values of c.\n",
    "That is, the distribution of c when c_test.isull() is 'the same' as the distribution of c when c_test.notnull().\n",
    "\n",
    "The distributions are considered 'the same' if the p-value of a permutation test is below the 0.05 significance threshold. "
   ]
  },
  {
   "cell_type": "code",
   "execution_count": 299,
   "metadata": {},
   "outputs": [],
   "source": [
    "# starting with complete dataset with all (non-redundant) columns, \n",
    "# I will blank out age values > 85, these are the \"missing\" values \n",
    "\n",
    "df.loc[df['age'] > 85, 'age'] = np.nan "
   ]
  },
  {
   "cell_type": "code",
   "execution_count": 259,
   "metadata": {},
   "outputs": [
    {
     "data": {
      "text/plain": [
       "starttime             0.00000\n",
       "stoptime              0.00000\n",
       "start station name    0.00000\n",
       "end station name      0.00000\n",
       "bikeid                0.00000\n",
       "usertype              0.00000\n",
       "gender                0.00000\n",
       "age                   0.00027\n",
       "trip_minutes          0.00000\n",
       "dtype: float64"
      ]
     },
     "execution_count": 259,
     "metadata": {},
     "output_type": "execute_result"
    }
   ],
   "source": [
    "df.isnull().mean()"
   ]
  },
  {
   "cell_type": "markdown",
   "metadata": {},
   "source": [
    "\n",
    "First, check the data look the 'same' when age is null vs not-null\n",
    "Is the empirical distribution of each column similar for null/not-null?\n"
   ]
  },
  {
   "cell_type": "markdown",
   "metadata": {},
   "source": [
    "I will start with 'usertype' column:"
   ]
  },
  {
   "cell_type": "code",
   "execution_count": 237,
   "metadata": {},
   "outputs": [
    {
     "data": {
      "text/html": [
       "<div>\n",
       "<style scoped>\n",
       "    .dataframe tbody tr th:only-of-type {\n",
       "        vertical-align: middle;\n",
       "    }\n",
       "\n",
       "    .dataframe tbody tr th {\n",
       "        vertical-align: top;\n",
       "    }\n",
       "\n",
       "    .dataframe thead th {\n",
       "        text-align: right;\n",
       "    }\n",
       "</style>\n",
       "<table border=\"1\" class=\"dataframe\">\n",
       "  <thead>\n",
       "    <tr style=\"text-align: right;\">\n",
       "      <th>usertype</th>\n",
       "      <th>Customer</th>\n",
       "      <th>Subscriber</th>\n",
       "    </tr>\n",
       "    <tr>\n",
       "      <th>is_null</th>\n",
       "      <th></th>\n",
       "      <th></th>\n",
       "    </tr>\n",
       "  </thead>\n",
       "  <tbody>\n",
       "    <tr>\n",
       "      <th>False</th>\n",
       "      <td>0.182018</td>\n",
       "      <td>0.817982</td>\n",
       "    </tr>\n",
       "    <tr>\n",
       "      <th>True</th>\n",
       "      <td>0.169118</td>\n",
       "      <td>0.830882</td>\n",
       "    </tr>\n",
       "  </tbody>\n",
       "</table>\n",
       "</div>"
      ],
      "text/plain": [
       "usertype  Customer  Subscriber\n",
       "is_null                       \n",
       "False     0.182018    0.817982\n",
       "True      0.169118    0.830882"
      ]
     },
     "execution_count": 237,
     "metadata": {},
     "output_type": "execute_result"
    }
   ],
   "source": [
    "# comparing null vs non-null (age) distributions for usertype \n",
    "\n",
    "distr = (\n",
    "    df\n",
    "    .assign(is_null=df.age.isnull())\n",
    "    .pivot_table(index='is_null', columns='usertype', aggfunc='size')\n",
    "    .apply(lambda x:x / x.sum(), axis=1)\n",
    ")\n",
    "distr"
   ]
  },
  {
   "cell_type": "markdown",
   "metadata": {},
   "source": [
    "Now, I want to know if the distributions are 'similar enough'.\n",
    "If yes, then missingness of age is not dependent on usertype.\n",
    "\n",
    "I will use a permutation test to assess the two distributions are similar.\n",
    "\n",
    "For categorical columns such as 'usertype' I use TVD as the test-statistic:"
   ]
  },
  {
   "cell_type": "code",
   "execution_count": 238,
   "metadata": {},
   "outputs": [
    {
     "data": {
      "image/png": "[encoded data removed]",
      "text/plain": [
       "<Figure size 700x500 with 1 Axes>"
      ]
     },
     "metadata": {},
     "output_type": "display_data"
    }
   ],
   "source": [
    "distr.T.plot(kind='bar');"
   ]
  },
  {
   "cell_type": "code",
   "execution_count": 239,
   "metadata": {},
   "outputs": [],
   "source": [
    "n_repetitions = 500\n",
    "\n",
    "tvds = []\n",
    "for _ in range(n_repetitions):\n",
    "    \n",
    "    # shuffle the gender column\n",
    "    shuffled_col = (\n",
    "        df['usertype']\n",
    "        .sample(replace=False, frac=1)\n",
    "        .reset_index(drop=True)\n",
    "    )\n",
    "    \n",
    "    # put them in a table\n",
    "    shuffled = (\n",
    "        df\n",
    "        .assign(**{\n",
    "            'usertype': shuffled_col,\n",
    "            'is_null': df['age'].isnull()\n",
    "        })\n",
    "    )\n",
    "    \n",
    "    # compute the tvd\n",
    "    shuffled = (\n",
    "        shuffled\n",
    "        .pivot_table(index='is_null', columns='usertype', aggfunc='size')\n",
    "        .apply(lambda x:x / x.sum(), axis=1)\n",
    "    )\n",
    "    \n",
    "    tvd = shuffled.diff().iloc[-1].abs().sum() / 2\n",
    "    # add it to the list of results\n",
    "    \n",
    "    tvds.append(tvd)"
   ]
  },
  {
   "cell_type": "code",
   "execution_count": 242,
   "metadata": {},
   "outputs": [
    {
     "data": {
      "text/plain": [
       "0.012899875048802065"
      ]
     },
     "execution_count": 242,
     "metadata": {},
     "output_type": "execute_result"
    }
   ],
   "source": [
    "obs = distr.diff().iloc[-1].abs().sum() / 2\n",
    "obs"
   ]
  },
  {
   "cell_type": "code",
   "execution_count": 243,
   "metadata": {},
   "outputs": [
    {
     "data": {
      "image/png": "[encoded data removed]",
      "text/plain": [
       "<Figure size 700x500 with 1 Axes>"
      ]
     },
     "metadata": {},
     "output_type": "display_data"
    }
   ],
   "source": [
    "pval = np.mean(tvds < obs) \n",
    "pd.Series(tvds).plot(kind='hist', density=True, alpha=0.8, title='p-value: %f' % pval)\n",
    "plt.scatter(obs, 0, color='red', s=40); "
   ]
  },
  {
   "cell_type": "markdown",
   "metadata": {},
   "source": [
    "Our p-value is less than 0.05, therefore we can say that age is *not* dependent on usertype.\n"
   ]
  },
  {
   "cell_type": "markdown",
   "metadata": {},
   "source": [
    "Now we will repeat the same process to determine whether age is dependent on gender:\n"
   ]
  },
  {
   "cell_type": "code",
   "execution_count": 253,
   "metadata": {},
   "outputs": [
    {
     "data": {
      "text/html": [
       "<div>\n",
       "<style scoped>\n",
       "    .dataframe tbody tr th:only-of-type {\n",
       "        vertical-align: middle;\n",
       "    }\n",
       "\n",
       "    .dataframe tbody tr th {\n",
       "        vertical-align: top;\n",
       "    }\n",
       "\n",
       "    .dataframe thead th {\n",
       "        text-align: right;\n",
       "    }\n",
       "</style>\n",
       "<table border=\"1\" class=\"dataframe\">\n",
       "  <thead>\n",
       "    <tr style=\"text-align: right;\">\n",
       "      <th></th>\n",
       "      <th>starttime</th>\n",
       "      <th>stoptime</th>\n",
       "      <th>start station name</th>\n",
       "      <th>end station name</th>\n",
       "      <th>bikeid</th>\n",
       "      <th>usertype</th>\n",
       "      <th>gender</th>\n",
       "      <th>age</th>\n",
       "      <th>trip_minutes</th>\n",
       "    </tr>\n",
       "  </thead>\n",
       "  <tbody>\n",
       "    <tr>\n",
       "      <th>0</th>\n",
       "      <td>2018-10-01 00:01:57.1860</td>\n",
       "      <td>2018-10-01 00:06:34.2320</td>\n",
       "      <td>MIT at Mass Ave / Amherst St</td>\n",
       "      <td>Kendall T</td>\n",
       "      <td>2749</td>\n",
       "      <td>Subscriber</td>\n",
       "      <td>1</td>\n",
       "      <td>22.0</td>\n",
       "      <td>4.616667</td>\n",
       "    </tr>\n",
       "    <tr>\n",
       "      <th>1</th>\n",
       "      <td>2018-10-01 00:03:22.3100</td>\n",
       "      <td>2018-10-01 00:19:11.5050</td>\n",
       "      <td>Jersey St. at Boylston St.</td>\n",
       "      <td>JFK Crossing at Harvard St. / Thorndike St.</td>\n",
       "      <td>3416</td>\n",
       "      <td>Subscriber</td>\n",
       "      <td>1</td>\n",
       "      <td>26.0</td>\n",
       "      <td>15.816667</td>\n",
       "    </tr>\n",
       "    <tr>\n",
       "      <th>2</th>\n",
       "      <td>2018-10-01 00:05:49.2200</td>\n",
       "      <td>2018-10-01 00:51:18.5400</td>\n",
       "      <td>Wentworth Institute of Technology - Huntington...</td>\n",
       "      <td>Wentworth Institute of Technology - Huntington...</td>\n",
       "      <td>3647</td>\n",
       "      <td>Customer</td>\n",
       "      <td>0</td>\n",
       "      <td>49.0</td>\n",
       "      <td>45.483333</td>\n",
       "    </tr>\n",
       "  </tbody>\n",
       "</table>\n",
       "</div>"
      ],
      "text/plain": [
       "                  starttime                  stoptime  \\\n",
       "0  2018-10-01 00:01:57.1860  2018-10-01 00:06:34.2320   \n",
       "1  2018-10-01 00:03:22.3100  2018-10-01 00:19:11.5050   \n",
       "2  2018-10-01 00:05:49.2200  2018-10-01 00:51:18.5400   \n",
       "\n",
       "                                  start station name  \\\n",
       "0                       MIT at Mass Ave / Amherst St   \n",
       "1                         Jersey St. at Boylston St.   \n",
       "2  Wentworth Institute of Technology - Huntington...   \n",
       "\n",
       "                                    end station name  bikeid    usertype  \\\n",
       "0                                          Kendall T    2749  Subscriber   \n",
       "1        JFK Crossing at Harvard St. / Thorndike St.    3416  Subscriber   \n",
       "2  Wentworth Institute of Technology - Huntington...    3647    Customer   \n",
       "\n",
       "   gender   age  trip_minutes  \n",
       "0       1  22.0      4.616667  \n",
       "1       1  26.0     15.816667  \n",
       "2       0  49.0     45.483333  "
      ]
     },
     "execution_count": 253,
     "metadata": {},
     "output_type": "execute_result"
    }
   ],
   "source": [
    "df.head(3)"
   ]
  },
  {
   "cell_type": "code",
   "execution_count": 254,
   "metadata": {},
   "outputs": [
    {
     "data": {
      "text/html": [
       "<div>\n",
       "<style scoped>\n",
       "    .dataframe tbody tr th:only-of-type {\n",
       "        vertical-align: middle;\n",
       "    }\n",
       "\n",
       "    .dataframe tbody tr th {\n",
       "        vertical-align: top;\n",
       "    }\n",
       "\n",
       "    .dataframe thead th {\n",
       "        text-align: right;\n",
       "    }\n",
       "</style>\n",
       "<table border=\"1\" class=\"dataframe\">\n",
       "  <thead>\n",
       "    <tr style=\"text-align: right;\">\n",
       "      <th>gender</th>\n",
       "      <th>0</th>\n",
       "      <th>1</th>\n",
       "      <th>2</th>\n",
       "    </tr>\n",
       "    <tr>\n",
       "      <th>is_null</th>\n",
       "      <th></th>\n",
       "      <th></th>\n",
       "      <th></th>\n",
       "    </tr>\n",
       "  </thead>\n",
       "  <tbody>\n",
       "    <tr>\n",
       "      <th>False</th>\n",
       "      <td>0.119887</td>\n",
       "      <td>0.655895</td>\n",
       "      <td>0.224217</td>\n",
       "    </tr>\n",
       "    <tr>\n",
       "      <th>True</th>\n",
       "      <td>0.299020</td>\n",
       "      <td>0.617647</td>\n",
       "      <td>0.083333</td>\n",
       "    </tr>\n",
       "  </tbody>\n",
       "</table>\n",
       "</div>"
      ],
      "text/plain": [
       "gender          0         1         2\n",
       "is_null                              \n",
       "False    0.119887  0.655895  0.224217\n",
       "True     0.299020  0.617647  0.083333"
      ]
     },
     "execution_count": 254,
     "metadata": {},
     "output_type": "execute_result"
    }
   ],
   "source": [
    "# comparing null vs non-null (age) distributions for gender\n",
    "\n",
    "distr = (\n",
    "    df\n",
    "    .assign(is_null=df.age.isnull())\n",
    "    .pivot_table(index='is_null', columns='gender', aggfunc='size')\n",
    "    .apply(lambda x:x / x.sum(), axis=1)\n",
    ")\n",
    "distr"
   ]
  },
  {
   "cell_type": "code",
   "execution_count": 255,
   "metadata": {},
   "outputs": [
    {
     "data": {
      "image/png": "[encoded data removed]",
      "text/plain": [
       "<Figure size 700x500 with 1 Axes>"
      ]
     },
     "metadata": {},
     "output_type": "display_data"
    }
   ],
   "source": [
    "distr.T.plot(kind='bar');"
   ]
  },
  {
   "cell_type": "code",
   "execution_count": 256,
   "metadata": {},
   "outputs": [],
   "source": [
    "n_repetitions = 500\n",
    "\n",
    "tvds = []\n",
    "for _ in range(n_repetitions):\n",
    "    \n",
    "    # shuffle the gender column\n",
    "    shuffled_col = (\n",
    "        df['gender']\n",
    "        .sample(replace=False, frac=1)\n",
    "        .reset_index(drop=True)\n",
    "    )\n",
    "    \n",
    "    # put them in a table\n",
    "    shuffled = (\n",
    "        df\n",
    "        .assign(**{\n",
    "            'gender': shuffled_col,\n",
    "            'is_null': df['age'].isnull()\n",
    "        })\n",
    "    )\n",
    "    \n",
    "    # compute the tvd\n",
    "    shuffled = (\n",
    "        shuffled\n",
    "        .pivot_table(index='is_null', columns='gender', aggfunc='size')\n",
    "        .apply(lambda x:x / x.sum(), axis=1)\n",
    "    )\n",
    "    \n",
    "    tvd = shuffled.diff().iloc[-1].abs().sum() / 2\n",
    "    # add it to the list of results\n",
    "    \n",
    "    tvds.append(tvd)"
   ]
  },
  {
   "cell_type": "code",
   "execution_count": 257,
   "metadata": {},
   "outputs": [
    {
     "data": {
      "text/plain": [
       "0.17913223390437932"
      ]
     },
     "execution_count": 257,
     "metadata": {},
     "output_type": "execute_result"
    }
   ],
   "source": [
    "obs = distr.diff().iloc[-1].abs().sum() / 2\n",
    "obs"
   ]
  },
  {
   "cell_type": "code",
   "execution_count": 258,
   "metadata": {},
   "outputs": [
    {
     "data": {
      "image/png": "[encoded data removed]",
      "text/plain": [
       "<Figure size 700x500 with 1 Axes>"
      ]
     },
     "metadata": {},
     "output_type": "display_data"
    }
   ],
   "source": [
    "pval = np.mean(tvds < obs) \n",
    "pd.Series(tvds).plot(kind='hist', density=True, alpha=0.8, title='p-value: %f' % pval)\n",
    "plt.scatter(obs, 0, color='red', s=40); "
   ]
  },
  {
   "cell_type": "markdown",
   "metadata": {},
   "source": [
    "Our p-value is greater than 0.05, therefore we can say that age *is* dependent on the gender column.\n"
   ]
  },
  {
   "cell_type": "markdown",
   "metadata": {},
   "source": [
    "### Hypothesis Test\n",
    "---"
   ]
  },
  {
   "cell_type": "markdown",
   "metadata": {},
   "source": [
    "\n",
    "I am curious as to whether middle aged users have similar . This information could be useful to the company for targeted marketing, because if they know that different age groups tends to take longer or shorter rides, they can use that information to recruit more customers from the agegroup that will earn them more revenue per ride. \n",
    "For the purpose of this project, I have decided to define middle aged users as users who are aged 35+, and younger adult users are those whose age is less than 35. In my exploratory analysis, it seemed that the average trip duration could be longer for middle aged users, so I will keep this in mind when forming my alternative hypothesis.\n",
    "\n",
    "\n",
    "To help answer this question, I will formulate a hypothesis and test it. \n",
    "\n",
    "\n",
    "- **Null hypothesis**: Of BlueBikes users, the average trip duration of middle aged users and young adult users are the same. (i.e. they come from the same distribution)\n",
    "   \n",
    "- **Alternative hypothesis**: Of BlueBikes users, trip duration of middle aged users is typically longer than that of younger users.\n",
    "\n",
    "I decided a reasonable statistic to compute in order to test the null hypothesis is difference in means.\n",
    "\n",
    "- **Statistic**: Difference between means.\n",
    "\n",
    "I will set a significance level of 0.05"
   ]
  },
  {
   "cell_type": "code",
   "execution_count": 334,
   "metadata": {},
   "outputs": [
    {
     "data": {
      "text/html": [
       "<div>\n",
       "<style scoped>\n",
       "    .dataframe tbody tr th:only-of-type {\n",
       "        vertical-align: middle;\n",
       "    }\n",
       "\n",
       "    .dataframe tbody tr th {\n",
       "        vertical-align: top;\n",
       "    }\n",
       "\n",
       "    .dataframe thead th {\n",
       "        text-align: right;\n",
       "    }\n",
       "</style>\n",
       "<table border=\"1\" class=\"dataframe\">\n",
       "  <thead>\n",
       "    <tr style=\"text-align: right;\">\n",
       "      <th></th>\n",
       "      <th>age_group</th>\n",
       "      <th>trip_minutes</th>\n",
       "    </tr>\n",
       "  </thead>\n",
       "  <tbody>\n",
       "    <tr>\n",
       "      <th>0</th>\n",
       "      <td>young adult</td>\n",
       "      <td>4.616667</td>\n",
       "    </tr>\n",
       "    <tr>\n",
       "      <th>1</th>\n",
       "      <td>young adult</td>\n",
       "      <td>15.816667</td>\n",
       "    </tr>\n",
       "    <tr>\n",
       "      <th>2</th>\n",
       "      <td>middle aged</td>\n",
       "      <td>45.483333</td>\n",
       "    </tr>\n",
       "    <tr>\n",
       "      <th>3</th>\n",
       "      <td>middle aged</td>\n",
       "      <td>43.400000</td>\n",
       "    </tr>\n",
       "    <tr>\n",
       "      <th>4</th>\n",
       "      <td>young adult</td>\n",
       "      <td>13.600000</td>\n",
       "    </tr>\n",
       "  </tbody>\n",
       "</table>\n",
       "</div>"
      ],
      "text/plain": [
       "     age_group  trip_minutes\n",
       "0  young adult      4.616667\n",
       "1  young adult     15.816667\n",
       "2  middle aged     45.483333\n",
       "3  middle aged     43.400000\n",
       "4  young adult     13.600000"
      ]
     },
     "execution_count": 334,
     "metadata": {},
     "output_type": "execute_result"
    }
   ],
   "source": [
    "\n",
    "# for this part, we only care about the 'age_group' and 'trip_minutes' columns so we can drop the others\n",
    "df1 = df.loc[:, ['age_group', 'trip_minutes']]\n",
    "df1.head()"
   ]
  },
  {
   "cell_type": "code",
   "execution_count": 335,
   "metadata": {},
   "outputs": [],
   "source": [
    "# Simulation:\n",
    "\n",
    "n_repetitions = 500\n",
    "\n",
    "differences = []\n",
    "for _ in range(n_repetitions):\n",
    "    \n",
    "    # shuffle the weights\n",
    "    shuffled_mins = (\n",
    "        df1['trip_minutes']\n",
    "        .sample(replace=False, frac=1)\n",
    "        .reset_index(drop=True)\n",
    "    )\n",
    "    \n",
    "    # put them in a table\n",
    "    shuffled = (\n",
    "        df1\n",
    "        .assign(**{'Shuffled Trip Minutes': shuffled_mins})\n",
    "    )\n",
    "    \n",
    "    # compute the group differences (test statistic)\n",
    "    group_means = (\n",
    "        shuffled\n",
    "        .groupby('age_group')\n",
    "        .mean()\n",
    "        .loc[:, 'Shuffled Trip Minutes']\n",
    "    )\n",
    "    difference = group_means.diff().iloc[-1]\n",
    "    \n",
    "    # add it to the list of results\n",
    "    differences.append(difference)"
   ]
  },
  {
   "cell_type": "code",
   "execution_count": 339,
   "metadata": {},
   "outputs": [
    {
     "data": {
      "text/html": [
       "<div>\n",
       "<style scoped>\n",
       "    .dataframe tbody tr th:only-of-type {\n",
       "        vertical-align: middle;\n",
       "    }\n",
       "\n",
       "    .dataframe tbody tr th {\n",
       "        vertical-align: top;\n",
       "    }\n",
       "\n",
       "    .dataframe thead th {\n",
       "        text-align: right;\n",
       "    }\n",
       "</style>\n",
       "<table border=\"1\" class=\"dataframe\">\n",
       "  <thead>\n",
       "    <tr style=\"text-align: right;\">\n",
       "      <th></th>\n",
       "      <th>trip_minutes</th>\n",
       "    </tr>\n",
       "    <tr>\n",
       "      <th>age_group</th>\n",
       "      <th></th>\n",
       "    </tr>\n",
       "  </thead>\n",
       "  <tbody>\n",
       "    <tr>\n",
       "      <th>middle aged</th>\n",
       "      <td>21.362146</td>\n",
       "    </tr>\n",
       "    <tr>\n",
       "      <th>young adult</th>\n",
       "      <td>14.365049</td>\n",
       "    </tr>\n",
       "  </tbody>\n",
       "</table>\n",
       "</div>"
      ],
      "text/plain": [
       "             trip_minutes\n",
       "age_group                \n",
       "middle aged     21.362146\n",
       "young adult     14.365049"
      ]
     },
     "execution_count": 339,
     "metadata": {},
     "output_type": "execute_result"
    }
   ],
   "source": [
    "#: the group means\n",
    "group_means = df1.groupby('age_group').mean()\n",
    "group_means\n",
    "\n"
   ]
  },
  {
   "cell_type": "code",
   "execution_count": 343,
   "metadata": {},
   "outputs": [
    {
     "data": {
      "text/plain": [
       "-6.997096347411054"
      ]
     },
     "execution_count": 343,
     "metadata": {},
     "output_type": "execute_result"
    }
   ],
   "source": [
    "#: the difference between them\n",
    "observed_difference = group_means['trip_minutes'].diff().iloc[-1]\n",
    "observed_difference"
   ]
  },
  {
   "cell_type": "markdown",
   "metadata": {},
   "source": [
    "### Conclusion of test:"
   ]
  },
  {
   "cell_type": "code",
   "execution_count": 344,
   "metadata": {},
   "outputs": [
    {
     "data": {
      "image/png": "[encoded data removed]",
      "text/plain": [
       "<Figure size 700x500 with 1 Axes>"
      ]
     },
     "metadata": {},
     "output_type": "display_data"
    }
   ],
   "source": [
    "title = 'average differences in trip durations (in minutes)'\n",
    "pd.Series(differences).plot(kind='hist', density=True, title=title,  alpha=0.8)\n",
    "plt.scatter(observed_difference, 0, color='red', s=40);"
   ]
  },
  {
   "cell_type": "markdown",
   "metadata": {},
   "source": [
    "The p-value = The probability of seeing a difference of means at least as extreme as the observed, under the null hypothesis."
   ]
  },
  {
   "cell_type": "code",
   "execution_count": 346,
   "metadata": {},
   "outputs": [
    {
     "data": {
      "text/plain": [
       "1.0"
      ]
     },
     "execution_count": 346,
     "metadata": {},
     "output_type": "execute_result"
    }
   ],
   "source": [
    "#: p-value\n",
    "pval = np.count_nonzero(differences >= observed_difference) / n_repetitions\n",
    "pval"
   ]
  },
  {
   "cell_type": "markdown",
   "metadata": {},
   "source": [
    "The p-value is much higher than our significance level. \n",
    "It is rare to see differences as large as this under the null hypothesis, therefore, we reject the null hypothesis: the two groups do *not* come from the same distribution."
   ]
  }
 ],
 "metadata": {
  "kernelspec": {
   "display_name": "Python 3",
   "language": "python",
   "name": "python3"
  },
  "language_info": {
   "codemirror_mode": {
    "name": "ipython",
    "version": 3
   },
   "file_extension": ".py",
   "mimetype": "text/x-python",
   "name": "python",
   "nbconvert_exporter": "python",
   "pygments_lexer": "ipython3",
   "version": "3.7.3"
  }
 },
 "nbformat": 4,
 "nbformat_minor": 2
}
